{
 "cells": [
  {
   "cell_type": "code",
   "execution_count": null,
   "metadata": {},
   "outputs": [],
   "source": [
    "#training script from https://blog.keras.io/building-powerful-image-classification-models-using-very-little-data.html"
   ]
  },
  {
   "cell_type": "code",
   "execution_count": null,
   "metadata": {},
   "outputs": [],
   "source": []
  },
  {
   "cell_type": "code",
   "execution_count": 23,
   "metadata": {},
   "outputs": [
    {
     "name": "stdout",
     "output_type": "stream",
     "text": [
      "Found 157 images belonging to 2 classes.\n",
      "Found 40 images belonging to 2 classes.\n",
      "Epoch 1/20\n",
      "125/125 [==============================] - 208s 2s/step - loss: 0.7064 - acc: 0.6012 - val_loss: 0.8796 - val_acc: 0.5030\n",
      "Epoch 2/20\n",
      "125/125 [==============================] - 225s 2s/step - loss: 0.6420 - acc: 0.6288 - val_loss: 1.0363 - val_acc: 0.5000\n",
      "Epoch 3/20\n",
      "125/125 [==============================] - 226s 2s/step - loss: 0.5784 - acc: 0.6939 - val_loss: 1.4004 - val_acc: 0.4970\n",
      "Epoch 4/20\n",
      "125/125 [==============================] - 256s 2s/step - loss: 0.5156 - acc: 0.7378 - val_loss: 1.0110 - val_acc: 0.4271\n",
      "Epoch 5/20\n",
      "125/125 [==============================] - 225s 2s/step - loss: 0.4432 - acc: 0.7778 - val_loss: 1.8427 - val_acc: 0.5030\n",
      "Epoch 6/20\n",
      "125/125 [==============================] - 209s 2s/step - loss: 0.3871 - acc: 0.8167 - val_loss: 2.0200 - val_acc: 0.5226\n",
      "Epoch 7/20\n",
      "125/125 [==============================] - 209s 2s/step - loss: 0.3100 - acc: 0.8579 - val_loss: 2.2853 - val_acc: 0.5238\n",
      "Epoch 8/20\n",
      "125/125 [==============================] - 187s 1s/step - loss: 0.2654 - acc: 0.8876 - val_loss: 3.4662 - val_acc: 0.5256\n",
      "Epoch 9/20\n",
      "125/125 [==============================] - 202s 2s/step - loss: 0.2281 - acc: 0.9004 - val_loss: 3.1661 - val_acc: 0.5527\n",
      "Epoch 10/20\n",
      "125/125 [==============================] - 215s 2s/step - loss: 0.1867 - acc: 0.9155 - val_loss: 3.1927 - val_acc: 0.5491\n",
      "Epoch 11/20\n",
      "125/125 [==============================] - 208s 2s/step - loss: 0.1690 - acc: 0.9332 - val_loss: 4.7994 - val_acc: 0.5286\n",
      "Epoch 12/20\n",
      "125/125 [==============================] - 204s 2s/step - loss: 0.1497 - acc: 0.9415 - val_loss: 4.7078 - val_acc: 0.5723\n",
      "Epoch 13/20\n",
      "125/125 [==============================] - 220s 2s/step - loss: 0.1488 - acc: 0.9463 - val_loss: 3.7013 - val_acc: 0.5015\n",
      "Epoch 14/20\n",
      "125/125 [==============================] - 212s 2s/step - loss: 0.1172 - acc: 0.9516 - val_loss: 4.6882 - val_acc: 0.5211\n",
      "Epoch 15/20\n",
      "125/125 [==============================] - 240s 2s/step - loss: 0.1063 - acc: 0.9636 - val_loss: 5.0956 - val_acc: 0.5271\n",
      "Epoch 16/20\n",
      "125/125 [==============================] - 231s 2s/step - loss: 0.1075 - acc: 0.9613 - val_loss: 5.0637 - val_acc: 0.5283\n",
      "Epoch 17/20\n",
      "125/125 [==============================] - 228s 2s/step - loss: 0.0992 - acc: 0.9640 - val_loss: 6.1807 - val_acc: 0.5437\n",
      "Epoch 18/20\n",
      "125/125 [==============================] - 230s 2s/step - loss: 0.0882 - acc: 0.9671 - val_loss: 6.7844 - val_acc: 0.5030\n",
      "Epoch 19/20\n",
      "125/125 [==============================] - 188s 2s/step - loss: 0.0857 - acc: 0.9663 - val_loss: 5.9293 - val_acc: 0.5000\n",
      "Epoch 20/20\n",
      "125/125 [==============================] - 180s 1s/step - loss: 0.0943 - acc: 0.9710 - val_loss: 6.1257 - val_acc: 0.5030\n"
     ]
    }
   ],
   "source": [
    "from keras.preprocessing.image import ImageDataGenerator\n",
    "from keras.models import Sequential\n",
    "from keras.layers import Conv2D, MaxPooling2D\n",
    "from keras.layers import Activation, Dropout, Flatten, Dense\n",
    "from keras import backend as K\n",
    "\n",
    "\n",
    "# dimensions of our images.\n",
    "img_width, img_height = 300, 300\n",
    "\n",
    "train_data_dir = 'data/train'\n",
    "validation_data_dir = 'data/validation'\n",
    "nb_train_samples = 2000\n",
    "nb_validation_samples = 800\n",
    "epochs = 20\n",
    "batch_size = 16\n",
    "\n",
    "if K.image_data_format() == 'channels_first':\n",
    "    input_shape = (3, img_width, img_height)\n",
    "else:\n",
    "    input_shape = (img_width, img_height, 3)\n",
    "\n",
    "model = Sequential()\n",
    "model.add(Conv2D(32, (3, 3), input_shape=input_shape))\n",
    "model.add(Activation('relu'))\n",
    "model.add(MaxPooling2D(pool_size=(2, 2)))\n",
    "\n",
    "model.add(Conv2D(32, (3, 3)))\n",
    "model.add(Activation('relu'))\n",
    "model.add(MaxPooling2D(pool_size=(2, 2)))\n",
    "\n",
    "model.add(Conv2D(64, (3, 3)))\n",
    "model.add(Activation('relu'))\n",
    "model.add(MaxPooling2D(pool_size=(2, 2)))\n",
    "\n",
    "model.add(Flatten())\n",
    "model.add(Dense(64))\n",
    "model.add(Activation('relu'))\n",
    "model.add(Dropout(0.5))\n",
    "model.add(Dense(1))\n",
    "model.add(Activation('sigmoid'))\n",
    "\n",
    "model.compile(loss='binary_crossentropy',\n",
    "              optimizer='rmsprop',\n",
    "              metrics=['accuracy'])\n",
    "\n",
    "# this is the augmentation configuration we will use for training\n",
    "train_datagen = ImageDataGenerator(\n",
    "    rescale=1. / 255,\n",
    "    shear_range=0.2,\n",
    "    zoom_range=0.2,\n",
    "    horizontal_flip=True)\n",
    "\n",
    "# this is the augmentation configuration we will use for testing:\n",
    "# only rescaling\n",
    "test_datagen = ImageDataGenerator(rescale=1. / 255)\n",
    "\n",
    "train_generator = train_datagen.flow_from_directory(\n",
    "    train_data_dir,\n",
    "    target_size=(img_width, img_height),\n",
    "    batch_size=batch_size,\n",
    "    class_mode='binary')\n",
    "\n",
    "validation_generator = test_datagen.flow_from_directory(\n",
    "    validation_data_dir,\n",
    "    target_size=(img_width, img_height),\n",
    "    batch_size=batch_size,\n",
    "    class_mode='binary')\n",
    "\n",
    "model.fit_generator(\n",
    "    train_generator,\n",
    "    steps_per_epoch=nb_train_samples // batch_size,\n",
    "    epochs=epochs,\n",
    "    validation_data=validation_generator,\n",
    "    validation_steps=nb_validation_samples // batch_size)\n",
    "\n",
    "model.save_weights('first_try.h5')"
   ]
  },
  {
   "cell_type": "code",
   "execution_count": 73,
   "metadata": {},
   "outputs": [
    {
     "data": {
      "image/png": "[encoded data removed]",
      "text/plain": [
       "<matplotlib.figure.Figure at 0x1339c67f0>"
      ]
     },
     "metadata": {},
     "output_type": "display_data"
    },
    {
     "name": "stdout",
     "output_type": "stream",
     "text": [
      "[[1]] [[1.]]\n",
      "This is a good kitty.\n"
     ]
    }
   ],
   "source": [
    "# from keras.models import load_model\n",
    "# from keras.preprocessing.image import img_to_array, load_img\n",
    "\n",
    "# model = load_model('first_try.h5')\n",
    "import numpy as np\n",
    "import matplotlib.pyplot as plt\n",
    "\n",
    "\n",
    "img = load_img('data/validation/criminal/17879300.png',False,target_size=(img_width,img_height))\n",
    "x = img_to_array(img)\n",
    "x = np.expand_dims(x, axis=0)\n",
    "preds = model.predict_classes(x)\n",
    "probs = model.predict_proba(x)\n",
    "image = 255 - img_to_array(img)\n",
    "\n",
    "plt.imshow(image)\n",
    "plt.show()\n",
    "\n",
    "if(int(preds) == 0):\n",
    "    print(preds, probs)\n",
    "    print(\"CRIMINAL KITTY\")\n",
    "else:\n",
    "    print(preds, probs)\n",
    "    print(\"This is a good kitty.\")\n"
   ]
  },
  {
   "cell_type": "code",
   "execution_count": null,
   "metadata": {},
   "outputs": [],
   "source": []
  },
  {
   "cell_type": "code",
   "execution_count": null,
   "metadata": {
    "collapsed": true
   },
   "outputs": [],
   "source": []
  }
 ],
 "metadata": {
  "kernelspec": {
   "display_name": "Python 3",
   "language": "python",
   "name": "python3"
  },
  "language_info": {
   "codemirror_mode": {
    "name": "ipython",
    "version": 3
   },
   "file_extension": ".py",
   "mimetype": "text/x-python",
   "name": "python",
   "nbconvert_exporter": "python",
   "pygments_lexer": "ipython3",
   "version": "3.6.1"
  }
 },
 "nbformat": 4,
 "nbformat_minor": 2
}
